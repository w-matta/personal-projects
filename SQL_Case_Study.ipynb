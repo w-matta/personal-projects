{
 "cells": [
  {
   "cell_type": "markdown",
   "id": "1089a38e-bac9-459c-9732-3ee37a6d5a33",
   "metadata": {},
   "source": [
    "# Intro to SQL: Restaurant Case Study"
   ]
  },
  {
   "cell_type": "markdown",
   "id": "21e86b58-e58a-4a37-b136-685ef55097a5",
   "metadata": {},
   "source": [
    "In this notebook, I explore basic queries like inserts, updates, and select statements by pouring over hypothetical restaurant data.\n",
    "**this notebook uses a pgsql database in a vm and cannot be run locally without standing up an EC2 cluster.**"
   ]
  },
  {
   "cell_type": "code",
   "execution_count": 2,
   "id": "4217066c-493f-4282-af9d-11877fdd606b",
   "metadata": {},
   "outputs": [],
   "source": [
    "import math\n",
    "import numpy as np\n",
    "import pandas as pd\n",
    "import psycopg2"
   ]
  },
  {
   "cell_type": "code",
   "execution_count": 3,
   "id": "a586b082-20ed-4a38-9f22-cefc97751aef",
   "metadata": {},
   "outputs": [],
   "source": [
    "# borrowing a function from stackoverflow to easily read sqlite queries\n",
    "def my_select_query_pandas(query, rollback_before_flag, rollback_after_flag):\n",
    "    \n",
    "    if rollback_before_flag:\n",
    "        connection.rollback()\n",
    "    \n",
    "    df = pd.read_sql_query(query, connection)\n",
    "    \n",
    "    if rollback_after_flag:\n",
    "        connection.rollback()\n",
    "    \n",
    "    # fix the float columns that really should be integers\n",
    "    for column in df:\n",
    "        if df[column].dtype == \"float64\":\n",
    "            fraction_flag = False\n",
    "            for value in df[column].values:\n",
    "                if not np.isnan(value):\n",
    "                    if value - math.floor(value) != 0:\n",
    "                        fraction_flag = True\n",
    "            if not fraction_flag:\n",
    "                df[column] = df[column].astype('Int64')\n",
    "    return(df)"
   ]
  },
  {
   "cell_type": "code",
   "execution_count": null,
   "id": "68e35b7e-3636-458b-b09b-3e8cf93ce94d",
   "metadata": {},
   "outputs": [],
   "source": [
    "connection = psycopg2.connect(\n",
    "    user = \"postgres\",\n",
    "    password = \"****\",\n",
    "    host = \"postgres\",\n",
    "    port = \"5432\",\n",
    "    database = \"postgres\"\n",
    ")"
   ]
  },
  {
   "cell_type": "markdown",
   "id": "cca452e8-3fd7-49c2-96ff-be20ebd7d4e5",
   "metadata": {},
   "source": [
    "# Total sales as a dollar amount, total number of sales, average dollar amount per sale\n"
   ]
  },
  {
   "cell_type": "code",
   "execution_count": null,
   "id": "e210a184-5cb4-458e-92af-09cd557c7ee7",
   "metadata": {},
   "outputs": [],
   "source": [
    "rollback_before_flag = True\n",
    "rollback_after_flag = True\n",
    "query = \"\"\"\n",
    "SELECT \n",
    "    SUM(total_amount) as total_sales_dollars,  \n",
    "    round(SUM(total_amount)/1000000,1) as total_sales_million_dollars,\n",
    "    COUNT(sale_id) as total_number_of_sales,\n",
    "    round(AVG(total_amount),2) as average_dollar_amount_per_sale\n",
    "FROM Sales \n",
    "\"\"\"\n",
    "df = my_select_query_pandas(query, rollback_before_flag, rollback_after_flag)"
   ]
  },
  {
   "cell_type": "markdown",
   "id": "a083a0de-2f7c-4570-9f45-12746f93df2f",
   "metadata": {},
   "source": [
    "# Total sales as a dollar amount, total number of sales, average dollar amount per sale by store"
   ]
  },
  {
   "cell_type": "code",
   "execution_count": null,
   "id": "6442eb18-5afd-4110-8bfb-1a81c1945812",
   "metadata": {},
   "outputs": [],
   "source": [
    "query = \"\"\"\n",
    "SELECT \n",
    "    \n",
    "    city as store_name,\n",
    "    SUM(total_amount) as total_sales_dollars,  \n",
    "    round(SUM(total_amount)/1000000,1) as total_sales_million_dollars,\n",
    "    COUNT(sale_id) as total_number_of_sales,\n",
    "    round(AVG(total_amount),2) as average_dollar_amount_per_sale\n",
    "    \n",
    "FROM \n",
    "Sales S  INNER JOIN Stores E\n",
    "on S.store_id = E.store_id\n",
    "GROUP BY store_name \n",
    "ORDER BY store_name ASC \n",
    "\"\"\"\n",
    "\n",
    "df = my_select_query_pandas(query, rollback_before_flag, rollback_after_flag)"
   ]
  },
  {
   "cell_type": "markdown",
   "id": "e9494e6b-a4b5-428f-bdfb-bf8f1137f9f9",
   "metadata": {},
   "source": [
    "# Total sales as a dollar amount, total number of sales, average dollar amount per sale by month"
   ]
  },
  {
   "cell_type": "code",
   "execution_count": null,
   "id": "d49b3de0-dfb9-4ab3-b027-5035473f6d4b",
   "metadata": {},
   "outputs": [],
   "source": [
    "query = \"\"\"\n",
    "\n",
    "SELECT \n",
    "    \n",
    "    EXTRACT(month FROM sale_date) as month_number,\n",
    "    \n",
    "    TO_CHAR(sale_date::date, 'Month') AS month, \n",
    "    \n",
    "    SUM(total_amount) as total_sales_dollars,  \n",
    "    \n",
    "    round(SUM(total_amount)/1000000,1) as total_sales_million_dollars,\n",
    "    \n",
    "    COUNT(sale_id) as total_number_of_sales,\n",
    "    \n",
    "    round(AVG(total_amount),2) as average_dollar_amount_per_sale\n",
    "    \n",
    "    \n",
    "FROM Sales \n",
    "\n",
    "GROUP BY 1,2\n",
    "\n",
    "\n",
    "\"\"\"\n",
    "\n",
    "df = my_select_query_pandas(query, rollback_before_flag, rollback_after_flag)\n",
    "df"
   ]
  },
  {
   "cell_type": "markdown",
   "id": "0454deb4-bf0d-40f0-8c4e-b996d5b1e3d1",
   "metadata": {},
   "source": [
    "# Total sales as a dollar amount, total number of sales, average dollar amount per sale by store and month"
   ]
  },
  {
   "cell_type": "code",
   "execution_count": null,
   "id": "2480e5a9-9619-4d9e-a522-23b9bcffb7d8",
   "metadata": {},
   "outputs": [],
   "source": [
    "query = \"\"\"\n",
    "\n",
    "SELECT \n",
    "\n",
    "    city as store_name,\n",
    "    EXTRACT(month FROM sale_date) as month_number,\n",
    "    TO_CHAR(sale_date::date, 'Month') AS month,\n",
    "    SUM(total_amount) as total_sales_dollars,  \n",
    "    \n",
    "    round(SUM(total_amount)/1000000,1) as total_sales_million_dollars,\n",
    "    COUNT(sale_id) as total_number_of_sales,\n",
    "    round(AVG(total_amount),2) as average_dollar_amount_per_sale\n",
    "    \n",
    "    \n",
    "FROM \n",
    "Sales S  \n",
    "INNER JOIN Stores E on S.store_id = E.store_id\n",
    "GROUP BY 1,2,3\n",
    "ORDER BY 1 ASC, 2 ASC\n",
    "\"\"\"\n",
    "\n",
    "df = my_select_query_pandas(query, rollback_before_flag, rollback_after_flag)\n",
    "df"
   ]
  },
  {
   "cell_type": "markdown",
   "id": "018a832d-6c50-4dc7-96c6-c4824c124897",
   "metadata": {},
   "source": [
    "# Total sales as a dollar amount, total number of sales, average dollar amount per sale by day of week"
   ]
  },
  {
   "cell_type": "code",
   "execution_count": null,
   "id": "c47d4785-b363-482e-aa85-2810f545c8d3",
   "metadata": {},
   "outputs": [],
   "source": [
    "query = \"\"\"\n",
    "\n",
    "SELECT \n",
    "    EXTRACT(dow FROM sale_date) as dow,\n",
    "    TO_CHAR(sale_date::date, 'Day') AS day_of_week,\n",
    "    SUM(total_amount) as total_sales_dollars,\n",
    "    round(SUM(total_amount)/1000000,1) as total_sales_million_dollars,\n",
    "    COUNT(sale_id) as total_number_of_sales,\n",
    "    round(AVG(total_amount),2) as average_dollar_amount_per_sale\n",
    "FROM Sales \n",
    "\n",
    "GROUP BY 1,2\n",
    "\"\"\"\n",
    "\n",
    "df = my_select_query_pandas(query, rollback_before_flag, rollback_after_flag)\n",
    "df"
   ]
  },
  {
   "cell_type": "markdown",
   "id": "70e60200-99b0-4595-9a05-89b200203e54",
   "metadata": {},
   "source": [
    "# Total sales as a dollar amount, total number of sales, average dollar amount per sale by store and day of week"
   ]
  },
  {
   "cell_type": "code",
   "execution_count": null,
   "id": "8410c0bf-1b52-4aed-96c6-c1265ebe31e4",
   "metadata": {},
   "outputs": [],
   "source": [
    "query = \"\"\"\n",
    "\n",
    "SELECT \n",
    "\n",
    "    city as store_name,\n",
    "    EXTRACT(dow FROM sale_date) as dow,\n",
    "    TO_CHAR(sale_date::date, 'Day') AS day_of_week, \n",
    "    SUM(total_amount) as total_sales_dollars,  \n",
    "    round(SUM(total_amount)/1000000,1) as total_sales_million_dollars,\n",
    "    COUNT(sale_id) as total_number_of_sales,\n",
    "    round(AVG(total_amount),2) as average_dollar_amount_per_sale\n",
    "    \n",
    "    \n",
    "FROM \n",
    "\n",
    "Sales S INNER JOIN Stores E\n",
    "on S.store_id = E.store_id\n",
    "GROUP BY 1,2,3\n",
    "ORDER BY 1 ASC, 2 ASC\n",
    "\"\"\"\n",
    "\n",
    "df = my_select_query_pandas(query, rollback_before_flag, rollback_after_flag)\n",
    "df"
   ]
  },
  {
   "cell_type": "markdown",
   "id": "c74a15da-5b2b-4c28-b241-84678c4dc080",
   "metadata": {},
   "source": [
    "# Total Number of Customers for all of AGM"
   ]
  },
  {
   "cell_type": "code",
   "execution_count": null,
   "id": "533691e6-955d-45b1-9392-4027018b9271",
   "metadata": {},
   "outputs": [],
   "source": [
    "query = \"\"\"\n",
    "SELECT\n",
    "    COUNT(*) AS total_number_of_customers\n",
    "FROM CUSTOMERS\n",
    "\"\"\"\n",
    "\n",
    "df = my_select_query_pandas(query, rollback_before_flag, rollback_after_flag)\n",
    "df"
   ]
  },
  {
   "cell_type": "markdown",
   "id": "a2fd1e86-a1f0-40f0-8a8e-21369d39552c",
   "metadata": {},
   "source": [
    "# Customers by Store"
   ]
  },
  {
   "cell_type": "code",
   "execution_count": null,
   "id": "7edeb724-a290-4a9d-8ad2-ac69c8185315",
   "metadata": {},
   "outputs": [],
   "source": [
    "query = \"\"\"\n",
    "SELECT\n",
    "    S.city as store_name,\n",
    "    COUNT(*) AS total_number_of_customers\n",
    "FROM Customers C \n",
    "INNER JOIN Stores S ON C.closest_store_id = S.store_id\n",
    "GROUP BY 1 \n",
    "ORDER BY 1 ASC\n",
    "\"\"\"\n",
    "\n",
    "df = my_select_query_pandas(query, rollback_before_flag, rollback_after_flag)\n",
    "df"
   ]
  },
  {
   "cell_type": "markdown",
   "id": "4eaa9f15-90e6-44a9-9db5-bff575bbe358",
   "metadata": {},
   "source": [
    "# Signed up, Not Bought Anything"
   ]
  },
  {
   "cell_type": "code",
   "execution_count": null,
   "id": "3d5c3d8e-9413-4903-9a0a-8fd59550c6b7",
   "metadata": {},
   "outputs": [],
   "source": [
    "query = \"\"\"\n",
    "\n",
    "SELECT \n",
    "    last_name,\n",
    "    first_name\n",
    "    \n",
    "FROM Customers C\n",
    "LEFT JOIN Sales S on C.customer_id = S.customer_id\n",
    "WHERE S.customer_id is NULL\n",
    "ORDER BY 1 ASC, 2 ASC\n",
    "\"\"\"\n",
    "\n",
    "df = my_select_query_pandas(query, rollback_before_flag, rollback_after_flag)\n",
    "df"
   ]
  },
  {
   "cell_type": "markdown",
   "id": "f92eebff-0813-4889-9ba0-f0b3eed9afb1",
   "metadata": {},
   "source": [
    "# Customers as % of Pop by Zip Code"
   ]
  },
  {
   "cell_type": "code",
   "execution_count": null,
   "id": "498ee877-e503-4d40-a5ad-b9c5471fd356",
   "metadata": {},
   "outputs": [],
   "source": [
    "query = \"\"\"\n",
    "SELECT\n",
    "    C.zip as zip,\n",
    "    ROUND((count(C.customer_id)/max(Z.population))*100, 3) as percentage_customers_per_population\n",
    "FROM Customers C\n",
    "INNER JOIN Zip_codes Z on C.zip = Z.zip\n",
    "GROUP BY 1\n",
    "ORDER BY count(C.customer_id)/max(Z.population) DESC\n",
    "\"\"\"\n",
    "\n",
    "df = my_select_query_pandas(query, rollback_before_flag, rollback_after_flag)\n",
    "df"
   ]
  },
  {
   "cell_type": "markdown",
   "id": "63e390b1-a9d7-4a4a-851f-29f4a122fa94",
   "metadata": {},
   "source": [
    "# Meal Purchases"
   ]
  },
  {
   "cell_type": "code",
   "execution_count": null,
   "id": "b2174612-3258-4de8-932f-aaa8bda7298d",
   "metadata": {},
   "outputs": [],
   "source": [
    "rollback_before_flag = True\n",
    "rollback_after_flag = True\n",
    "\n",
    "query = \"\"\"\n",
    "\n",
    "SELECT \n",
    "    \n",
    "    sum(quantity) as total_meals_purchased\n",
    "\n",
    "FROM line_items \n",
    "\n",
    "\"\"\"\n",
    "\n",
    "df = my_select_query_pandas(query, rollback_before_flag, rollback_after_flag)\n",
    "df"
   ]
  },
  {
   "cell_type": "markdown",
   "id": "0b889f17-bf3b-4fb2-b042-f560f2665586",
   "metadata": {},
   "source": [
    "# Meal Purchases over Month"
   ]
  },
  {
   "cell_type": "code",
   "execution_count": null,
   "id": "d3d79458-d9d1-48f1-bf63-3efcf4681afe",
   "metadata": {},
   "outputs": [],
   "source": [
    "query = \"\"\"\n",
    "\n",
    "SELECT \n",
    "    EXTRACT(month FROM sale_date) as month_number,\n",
    "    TO_CHAR(sale_date::date, 'Month') AS month,\n",
    "    SUM(quantity) as total_meals_purchased\n",
    "FROM Sales S\n",
    "INNER JOIN Line_items L on S.sale_id = L.sale_id AND S.store_id = L.store_id\n",
    "GROUP BY 1,2\n",
    "ORDER BY 1 ASC\n",
    "\"\"\"\n",
    "\n",
    "df = my_select_query_pandas(query, rollback_before_flag, rollback_after_flag)\n",
    "df"
   ]
  },
  {
   "cell_type": "markdown",
   "id": "e6021e13-0d26-4c9a-92d9-4251a4d343ee",
   "metadata": {},
   "source": [
    "# Meal Purchases by Day + Week"
   ]
  },
  {
   "cell_type": "code",
   "execution_count": null,
   "id": "5952e0da-7784-4917-bb4f-488135ec7898",
   "metadata": {},
   "outputs": [],
   "source": [
    "query = \"\"\"\n",
    "SELECT \n",
    "    EXTRACT(dow FROM sale_date) as dow,\n",
    "    TO_CHAR(sale_date::date, 'Day') AS day_of_week,\n",
    "    P.description as meal_name,\n",
    "    SUM(quantity) as total_meals_purchased\n",
    "FROM\n",
    "\n",
    "Sales S\n",
    "INNER JOIN Line_items L on S.sale_id = L.sale_id AND S.store_id = L.store_id\n",
    "INNER JOIN Products P on L.product_id = P.product_id\n",
    "\n",
    "GROUP BY 1,2,3\n",
    "ORDER BY 1 ASC, 3 ASC\n",
    "\"\"\"\n",
    "\n",
    "df = my_select_query_pandas(query, rollback_before_flag, rollback_after_flag)\n",
    "df"
   ]
  }
 ],
 "metadata": {
  "kernelspec": {
   "display_name": "Python 3 (ipykernel)",
   "language": "python",
   "name": "python3"
  },
  "language_info": {
   "codemirror_mode": {
    "name": "ipython",
    "version": 3
   },
   "file_extension": ".py",
   "mimetype": "text/x-python",
   "name": "python",
   "nbconvert_exporter": "python",
   "pygments_lexer": "ipython3",
   "version": "3.13.0"
  }
 },
 "nbformat": 4,
 "nbformat_minor": 5
}
