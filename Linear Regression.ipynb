{
  "cells": [
    {
      "cell_type": "markdown",
      "metadata": {
        "id": "rHLcriKWLRe4"
      },
      "source": [
        "\n",
        "# Basics for Linear Regression\n",
        "\n",
        "This notebook reflects an introduction to linear regression using a univariate analysis generated with random noise."
      ]
    },
    {
      "cell_type": "markdown",
      "metadata": {
        "id": "pnQEGq6CvRL7"
      },
      "source": [
        "### Define functions"
      ]
    },
    {
      "cell_type": "markdown",
      "source": [
        "We begin by creating a function that generates sample data with noise and returns the data split into labels and training data."
      ],
      "metadata": {
        "id": "0EOVRyRpFZox"
      }
    },
    {
      "cell_type": "code",
      "execution_count": 7,
      "metadata": {
        "id": "FhSTzPw0vRL7"
      },
      "outputs": [],
      "source": [
        "import numpy as np\n",
        "from sklearn.model_selection import train_test_split\n",
        "from sklearn.metrics import mean_squared_error\n",
        "import matplotlib.pyplot as plt\n",
        "\n",
        "# w: the coefficent for our one feature\n",
        "# b: slope\n",
        "# bound: interval for noise\n",
        "def create_1d_data(num_examples, w, b, bound):\n",
        "  np.random.seed(4)  # consistent random number generation\n",
        "  X = np.arange(num_examples) #creates evenly spaced array of numbers\n",
        "  deltas = np.random.uniform(low=-bound, high=bound, size=X.shape) # added noise\n",
        "  Y = b + deltas + w * X\n",
        "\n",
        "  return X, Y"
      ]
    },
    {
      "cell_type": "markdown",
      "metadata": {
        "id": "ylQ4pSL2vRL8"
      },
      "source": [
        "---\n",
        "### Data ingestion"
      ]
    },
    {
      "cell_type": "code",
      "execution_count": 8,
      "metadata": {
        "id": "6qJg0IiYVJ8U",
        "colab": {
          "base_uri": "https://localhost:8080/"
        },
        "outputId": "3e76005a-729f-41b8-da4f-2340205cd8d7"
      },
      "outputs": [
        {
          "output_type": "stream",
          "name": "stdout",
          "text": [
            "Printing shape of X: (70,)\n",
            "Printing first 10 elements in X: [0 1 2 3 4 5 6 7 8 9]\n",
            "\n",
            "Printing shape of Y: (70,)\n",
            "Printing first 10 elements in Y: [ 1.93405968  3.0944645   5.94536872  7.42963199  9.39545765 10.43217899\n",
            " 13.95254891 14.01246051 16.50596472 18.86958306]\n"
          ]
        }
      ],
      "source": [
        "# Define parameters\n",
        "num_examples = 70\n",
        "w = 2\n",
        "b = 1\n",
        "bound = 1\n",
        "\n",
        "# Create data\n",
        "X, Y = create_1d_data(70, 2, 1, 1)\n",
        "\n",
        "# Print shapes\n",
        "print('Printing shape of X:', X.shape)\n",
        "print('Printing first 10 elements in X:', X[:10])\n",
        "print('\\nPrinting shape of Y:', Y.shape)\n",
        "print('Printing first 10 elements in Y:', Y[:10])"
      ]
    },
    {
      "cell_type": "markdown",
      "metadata": {
        "id": "8NXo1n9j1LMT"
      },
      "source": [
        "---\n",
        "###  Data Preprocessing"
      ]
    },
    {
      "cell_type": "markdown",
      "metadata": {
        "id": "nOmOnUoJvRL9"
      },
      "source": [
        "Our objectives here involve adding one more feature to X and creating data partitions."
      ]
    },
    {
      "cell_type": "markdown",
      "metadata": {
        "id": "GRkwU3kVvRL9"
      },
      "source": [
        "### <span style=\"color:chocolate\"></span> Adding features\n"
      ]
    },
    {
      "cell_type": "markdown",
      "metadata": {
        "id": "cGOhF-TxvRL9"
      },
      "source": [
        "1. Add a column of $1s$ to $X$ (this will serve as an intercept or \"bias\" in our modeling task later on). Note: do not create a new array, just concatenate with the current values;\n",
        "2. Print the shape of the array."
      ]
    },
    {
      "cell_type": "code",
      "execution_count": 9,
      "metadata": {
        "id": "Kuup01CdvRL-",
        "colab": {
          "base_uri": "https://localhost:8080/"
        },
        "outputId": "0366e9f8-2843-4b46-ca1a-f7b1020674fb"
      },
      "outputs": [
        {
          "output_type": "stream",
          "name": "stdout",
          "text": [
            "(70, 2)\n"
          ]
        }
      ],
      "source": [
        "z = np.ones(len(X))\n",
        "X = np.column_stack((X,z)) #column_stack // concatenate\n",
        "print(X.shape)"
      ]
    },
    {
      "cell_type": "markdown",
      "metadata": {
        "id": "geI0JVyrvRL-"
      },
      "source": [
        "### <span style=\"color:chocolate\"></span> Data splits"
      ]
    },
    {
      "cell_type": "markdown",
      "metadata": {
        "id": "hwLkT-covRL-"
      },
      "source": [
        "Using the <span style=\"color:chocolate\">train_test_split()</span> method available in scikit-learn:\n",
        "1. Split the (X,Y) data into training and test paritions by setting test_size=0.2 and random_state=1234. All the other arguments of the method are set to default values. Name the resulting arrays X_train, X_test, Y_train, Y_test;\n",
        "2. Print the shape of each array."
      ]
    },
    {
      "cell_type": "code",
      "execution_count": 10,
      "metadata": {
        "id": "84cJW_5_vRL-",
        "colab": {
          "base_uri": "https://localhost:8080/"
        },
        "outputId": "fef40489-336b-4cb1-947c-10e4e7b36bf2"
      },
      "outputs": [
        {
          "output_type": "stream",
          "name": "stdout",
          "text": [
            "(56, 2)\n",
            "(14, 2)\n",
            "(56,)\n",
            "(14,)\n"
          ]
        }
      ],
      "source": [
        "# can create all 4 vars at the same time in scikit learn\n",
        "X_train, X_test, Y_train, Y_test = train_test_split(X, Y, test_size=0.2, random_state=1234)\n",
        "print(X_train.shape)\n",
        "print(X_test.shape)\n",
        "print(Y_train.shape)\n",
        "print(Y_test.shape)"
      ]
    },
    {
      "cell_type": "markdown",
      "metadata": {
        "id": "k7-77Y5lvRL-"
      },
      "source": [
        "---\n",
        "###  Exploratory data analysis (EDA)"
      ]
    },
    {
      "cell_type": "markdown",
      "metadata": {
        "id": "bk_---epvRL-"
      },
      "source": [
        "### <span style=\"color:chocolate\"></span> Plots"
      ]
    },
    {
      "cell_type": "markdown",
      "metadata": {
        "id": "Nif1FQELvRL-"
      },
      "source": [
        "Create a side-by-side histogram for the values in Y_train and X_train. Make sure to include axes name and titles for each subplot."
      ]
    },
    {
      "cell_type": "code",
      "execution_count": 11,
      "metadata": {
        "id": "s-VVpEr9vRL-",
        "colab": {
          "base_uri": "https://localhost:8080/",
          "height": 498
        },
        "outputId": "9d74c13f-d79e-491f-8a8c-8e3971a51c3d"
      },
      "outputs": [
        {
          "output_type": "display_data",
          "data": {
            "text/plain": [
              "<Figure size 640x480 with 2 Axes>"
            ],
            "image/png": "[encoded data removed]"
          },
          "metadata": {}
        }
      ],
      "source": [
        "fig, (ax1, ax2) = plt.subplots(1,2)\n",
        "fig.suptitle('Histograms for Y_train and X_train')\n",
        "ax1.hist(Y_train)\n",
        "ax1.set_title('Y_train')\n",
        "ax1.set_xlabel('Y_train')\n",
        "ax1.set_ylabel('Frequency')\n",
        "ax2.hist(X_train)\n",
        "ax2.set_title('X_train')\n",
        "ax2.set_xlabel('X_train')\n",
        "ax2.set_ylabel('Frequency')\n",
        "plt.subplots_adjust(wspace=0.5, hspace=0.5)\n",
        "plt.show()"
      ]
    },
    {
      "cell_type": "markdown",
      "metadata": {
        "id": "Y2Cc3d48vRL_"
      },
      "source": [
        "---\n",
        "###  Modeling"
      ]
    },
    {
      "cell_type": "markdown",
      "metadata": {
        "id": "FVrd9n8FvRL_"
      },
      "source": [
        "Let's start by considering two arbitrary models, one of them obviously subpar for demonstration reasons:\n",
        "1. $M_1(x) = x$ + 5\n",
        "2. $M_2(x) = 2x$ + 1"
      ]
    },
    {
      "cell_type": "markdown",
      "metadata": {
        "id": "u0ChQX5lvRL_"
      },
      "source": [
        "### <span style=\"color:chocolate\"></span> Practice with Parameters"
      ]
    },
    {
      "cell_type": "markdown",
      "metadata": {
        "id": "_biplCt-vRL_"
      },
      "source": [
        "We can start by supplying a list of weights in the same order as B1, B0\n",
        "(ie y = b0*x + b1)"
      ]
    },
    {
      "cell_type": "code",
      "source": [
        "M1_hat_train = np.dot(X_train, [1,5])\n",
        "M2_hat_train = np.dot(X_train, [2,1])\n",
        "print(M1_hat_train.shape)\n",
        "print(M2_hat_train.shape)"
      ],
      "metadata": {
        "id": "Z2QmiASjFz2r",
        "colab": {
          "base_uri": "https://localhost:8080/"
        },
        "outputId": "e41f14ea-309f-4601-c7c6-74559e388185"
      },
      "execution_count": 12,
      "outputs": [
        {
          "output_type": "stream",
          "name": "stdout",
          "text": [
            "(56,)\n",
            "(56,)\n"
          ]
        }
      ]
    },
    {
      "cell_type": "markdown",
      "metadata": {
        "id": "PB88-hLyvRL_"
      },
      "source": [
        "### <span style=\"color:chocolate\">Gradient Descent</span>"
      ]
    },
    {
      "cell_type": "markdown",
      "metadata": {
        "id": "QaXYiTm9ftRf"
      },
      "source": [
        "Next, we can apply gradient descent by creating a function that accepts the number of epochs and the learning rate as parameters to experiment on our models."
      ]
    },
    {
      "cell_type": "code",
      "execution_count": 13,
      "metadata": {
        "id": "_hP9rzDyFXTg"
      },
      "outputs": [],
      "source": [
        "def gradient_descent(inputs, outputs, learning_rate, num_epochs):\n",
        "\n",
        "  # m = number of examples, n = number of features\n",
        "  m, n = inputs.shape\n",
        "\n",
        "  # We'll use a vector of size n to store the learned weights and initialize\n",
        "  # all weights to 1.\n",
        "  W = np.ones(n)\n",
        "\n",
        "  # Keep track of the training loss and weights after each step.\n",
        "  losses = []\n",
        "  weights = []\n",
        "\n",
        "  for epoch in range(num_epochs):\n",
        "    weights.append(W)\n",
        "    predictions = np.dot(inputs, W).flatten()\n",
        "    diff = predictions - outputs\n",
        "\n",
        "    # our loss is a sum of squared differences, which we want to minimize\n",
        "    loss = np.mean(diff ** 2)\n",
        "\n",
        "    # Append the loss to the losses list\n",
        "    losses.append(loss)\n",
        "\n",
        "    # Compute the gradient with respect to the loss.\n",
        "    gradient = (inputs * diff.reshape(m,1)) * 2\n",
        "    gradient = np.mean(gradient, axis=0)\n",
        "\n",
        "    # Update weights, scaling the gradient by the learning rate.\n",
        "    W = W - (learning_rate * gradient)\n",
        "\n",
        "  return np.array(weights), np.array(losses)\n",
        "\n"
      ]
    },
    {
      "cell_type": "code",
      "source": [
        "epochs = 5\n",
        "rate = .0002\n",
        "\n",
        "def plot_gradient_descent(num_epochs: int, rate: float, axObj):\n",
        "  weights, losses = gradient_descent(\n",
        "    X_train,\n",
        "    Y_train,\n",
        "    learning_rate=rate,\n",
        "    num_epochs=num_epochs\n",
        "  )\n",
        "\n",
        "  epochs = np.arange(1,num_epochs+1)\n",
        "\n",
        "  axObj.plot(epochs, losses)\n",
        "  axObj.set_xlabel('Epoch')\n",
        "  axObj.set_ylabel('Loss')\n",
        "  axObj.set_title(f'Learning Rate: {rate},\\n{num_epochs} Epochs')\n",
        "  axObj.set_xticks(epochs)\n",
        "\n",
        "  return {\n",
        "      \"final_loss\": losses[-1],\n",
        "      \"final_weights\": weights[-1]\n",
        "  }\n",
        "\n",
        "fig, (ax1) = plt.subplots(1,1)\n",
        "plot_gradient_descent(epochs, rate, ax1)\n",
        "plt.show()"
      ],
      "metadata": {
        "id": "TgvzsUJy22hg",
        "colab": {
          "base_uri": "https://localhost:8080/",
          "height": 493
        },
        "outputId": "3028e928-8702-454f-b019-ffd351fa7a9b"
      },
      "execution_count": 14,
      "outputs": [
        {
          "output_type": "display_data",
          "data": {
            "text/plain": [
              "<Figure size 640x480 with 1 Axes>"
            ],
            "image/png": "[encoded data removed]"
          },
          "metadata": {}
        }
      ]
    },
    {
      "cell_type": "markdown",
      "metadata": {
        "id": "rx7-SGZhvRMA"
      },
      "source": [
        "---\n",
        "###  Hyperparameter tuning"
      ]
    },
    {
      "cell_type": "markdown",
      "metadata": {
        "id": "VU9IDjPLvRMA"
      },
      "source": [
        "For added performance evaluation, we can adjust learning rates and epochs manually to get a better feel for hyperparameter tuning. Since this is purely introductory, we will not go through more than a few examples:"
      ]
    },
    {
      "cell_type": "markdown",
      "metadata": {
        "id": "dblWcEIXvRMA"
      },
      "source": [
        "### <span style=\"color:chocolate\"></span> Tuning hyperparameters"
      ]
    },
    {
      "cell_type": "code",
      "execution_count": 15,
      "metadata": {
        "id": "7_pF_qc-vRMA",
        "colab": {
          "base_uri": "https://localhost:8080/",
          "height": 562
        },
        "outputId": "2495cb8e-fdf8-411e-94c7-3e38a642b6a0"
      },
      "outputs": [
        {
          "output_type": "display_data",
          "data": {
            "text/plain": [
              "<Figure size 640x480 with 3 Axes>"
            ],
            "image/png": "[encoded data removed]"
          },
          "metadata": {}
        },
        {
          "output_type": "stream",
          "name": "stdout",
          "text": [
            "Loss for 5 epochs, lr = .0002 :: 0.5898109426970117\n",
            "Loss for 5 epochs, lr = .02 :: 5.627343575809504e+17\n",
            "Loss for 10 epochs, lr = .0002 :: 0.3244489580924425\n"
          ]
        }
      ],
      "source": [
        "\n",
        "fig, (ax1, ax2, ax3) = plt.subplots(1,3)\n",
        "m1 = plot_gradient_descent(5, .0002, ax1)\n",
        "m2 = plot_gradient_descent(5, .02, ax2)\n",
        "m3 = plot_gradient_descent(10, .0002, ax3)\n",
        "plt.subplots_adjust(wspace=0.5, hspace=0.5)\n",
        "plt.show()\n",
        "print(\"Loss for 5 epochs, lr = .0002 ::\",m1['final_loss'])\n",
        "print(\"Loss for 5 epochs, lr = .02 ::\",m2['final_loss'])\n",
        "print(\"Loss for 10 epochs, lr = .0002 ::\",m3['final_loss'])"
      ]
    },
    {
      "cell_type": "markdown",
      "metadata": {
        "id": "MUPY_6ARvRMA"
      },
      "source": [
        "Our best model was model 3, which we can use to inspect the final weights.\n",
        "Appropriately, these are fairly close y = 2x+1, which are the weights we used to generate our random dataset with noise at the beginning of this notebook."
      ]
    },
    {
      "cell_type": "code",
      "execution_count": null,
      "metadata": {
        "id": "cM5TMDQ2vRMA",
        "colab": {
          "base_uri": "https://localhost:8080/"
        },
        "outputId": "7014db50-a31b-4cf7-a6ef-f261c39e27aa"
      },
      "outputs": [
        {
          "output_type": "execute_result",
          "data": {
            "text/plain": [
              "array([2.00063055, 1.021434  ])"
            ]
          },
          "metadata": {},
          "execution_count": 11
        }
      ],
      "source": [
        "m3['final_weights']"
      ]
    },
    {
      "cell_type": "markdown",
      "source": [
        "Therefore, the most performant model is:\n",
        "$M_3(x)$ = 2.00063055*X + 1.021434"
      ],
      "metadata": {
        "id": "IRTYq4QS8MjE"
      }
    },
    {
      "cell_type": "markdown",
      "metadata": {
        "id": "grvAU9yKvRMB"
      },
      "source": [
        "---\n",
        "###  Evaluation and Generalization"
      ]
    },
    {
      "cell_type": "markdown",
      "metadata": {
        "id": "vYjs9wbZvRMG"
      },
      "source": [
        "To evaluate our models, we assess their performance based on how closely they fit the available data. In other words, we compare the true value $y$ with the predicted value $\\hat{y}$ for each $x$."
      ]
    },
    {
      "cell_type": "markdown",
      "metadata": {
        "id": "voyKVALMvRMG"
      },
      "source": [
        "### <span style=\"color:chocolate\"></span> Computing MSE"
      ]
    },
    {
      "cell_type": "markdown",
      "metadata": {
        "id": "4e2bZcU1vRMG"
      },
      "source": [
        "Regardless, we can assess the MSE for each model:"
      ]
    },
    {
      "cell_type": "code",
      "execution_count": null,
      "metadata": {
        "id": "DjD6GzTUvRMG",
        "colab": {
          "base_uri": "https://localhost:8080/"
        },
        "outputId": "5ff6beb7-4281-4c0a-a330-9d4438d1ae67"
      },
      "outputs": [
        {
          "output_type": "stream",
          "name": "stdout",
          "text": [
            "MSE for M1:  0.3280557752885262\n",
            "MSE for M2:  1397.608983658733\n",
            "MSE for M3:  0.3244489580924425\n"
          ]
        }
      ],
      "source": [
        "\n",
        "m1_weights = np.array([2,1])\n",
        "m2_weights = np.array([1,5])\n",
        "m3_weights = m3['final_weights']\n",
        "\n",
        "m1_mse = mean_squared_error(Y_train, np.dot(X_train, m1_weights))\n",
        "m2_mse = mean_squared_error(Y_train, np.dot(X_train, m2_weights))\n",
        "m3_mse = mean_squared_error(Y_train, np.dot(X_train, m3_weights))\n",
        "\n",
        "print(\"MSE for M1: \", m1_mse)\n",
        "print(\"MSE for M2: \", m2_mse)\n",
        "print(\"MSE for M3: \", m3_mse)"
      ]
    },
    {
      "cell_type": "markdown",
      "source": [
        "Using MSE as a loss function, we can conclude that Model 3 performs slightly better than than Model 1 and notably better than Model 2."
      ],
      "metadata": {
        "id": "vkA4CYN0_w9i"
      }
    },
    {
      "cell_type": "markdown",
      "metadata": {
        "id": "sV39CCCVvRMG"
      },
      "source": [
        "### <span style=\"color:chocolate\"></span> Generalization"
      ]
    },
    {
      "cell_type": "markdown",
      "metadata": {
        "id": "YGXMDr3hvRMG"
      },
      "source": [
        "We can see how well models generalize by using them to predict test data and measuring performance:"
      ]
    },
    {
      "cell_type": "code",
      "execution_count": null,
      "metadata": {
        "id": "AhnCXqC9vRMG",
        "colab": {
          "base_uri": "https://localhost:8080/"
        },
        "outputId": "fafc4ea4-d45f-407c-bcaf-45f68f92ae69"
      },
      "outputs": [
        {
          "output_type": "stream",
          "name": "stdout",
          "text": [
            "MSE for M1:  0.2908006971666422\n",
            "MSE for M2:  1113.6003911560044\n",
            "MSE for M3:  0.29713927500107334\n"
          ]
        }
      ],
      "source": [
        "\n",
        "m1_mse = mean_squared_error(Y_test, np.dot(X_test, m1_weights))\n",
        "m2_mse = mean_squared_error(Y_test, np.dot(X_test, m2_weights))\n",
        "m3_mse = mean_squared_error(Y_test, np.dot(X_test, m3_weights))\n",
        "\n",
        "print(\"MSE for M1: \", m1_mse)\n",
        "print(\"MSE for M2: \", m2_mse)\n",
        "print(\"MSE for M3: \", m3_mse)"
      ]
    },
    {
      "cell_type": "markdown",
      "source": [
        "Based on MSE performance using test data, Model 1 generalizes the best."
      ],
      "metadata": {
        "id": "hnAqsHyQ_OId"
      }
    }
  ],
  "metadata": {
    "accelerator": "GPU",
    "colab": {
      "provenance": [],
      "gpuType": "T4"
    },
    "kernelspec": {
      "display_name": "Python 3",
      "name": "python3"
    },
    "language_info": {
      "codemirror_mode": {
        "name": "ipython",
        "version": 3
      },
      "file_extension": ".py",
      "mimetype": "text/x-python",
      "name": "python",
      "nbconvert_exporter": "python",
      "pygments_lexer": "ipython3",
      "version": "3.12.4"
    }
  },
  "nbformat": 4,
  "nbformat_minor": 0
}